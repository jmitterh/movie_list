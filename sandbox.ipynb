{
 "cells": [
  {
   "cell_type": "markdown",
   "metadata": {},
   "source": [
    "#### Function to find None.srt files in a log file and save to CSV"
   ]
  },
  {
   "cell_type": "code",
   "execution_count": null,
   "metadata": {},
   "outputs": [],
   "source": [
    "def find_none_srt_filenames(log_file):\n",
    "    pattern = r\"New file name is: (.+\\.None\\.srt)\"\n",
    "    file_names = []\n",
    "\n",
    "    # Open and read the log file\n",
    "    with open(log_file, 'r') as file:\n",
    "        for line in file:\n",
    "            match = re.search(pattern, line)\n",
    "            if match:\n",
    "                print(\"match.group(1):\", match.group(1))\n",
    "                file_names.append(match.group(1))\n",
    "\n",
    "    # Create DataFrame and remove duplicates\n",
    "    df = pd.DataFrame(file_names, columns=['File Names'])\n",
    "    df = df.drop_duplicates()\n",
    "\n",
    "    # Save to CSV\n",
    "    df.to_csv('None_srt_file_names.csv', index=False)\n",
    "\n",
    "    print(\"CSV file saved as 'None_srt_file_names.csv'\")\n",
    "\n",
    "# Example usage\n",
    "log_file = 'edit_srt_files.log'\n",
    "find_none_srt_filenames(log_file)"
   ]
  },
  {
   "cell_type": "markdown",
   "metadata": {},
   "source": [
    "#### test regex"
   ]
  },
  {
   "cell_type": "code",
   "execution_count": null,
   "metadata": {},
   "outputs": [],
   "source": [
    "import re\n",
    "\n",
    "def clean_filename(filename):\n",
    "    # Regular expression pattern to match '{num}.'\n",
    "    pattern = r'\\.\\d+\\.'\n",
    "\n",
    "    # Replace the matched pattern with an empty string\n",
    "    cleaned_filename = re.sub(pattern, '.', filename)\n",
    "\n",
    "    return cleaned_filename\n",
    "\n",
    "# Example usage\n",
    "file = \"some name (2010) 1080p.123.en.srt\"\n",
    "cleaned_filename = clean_filename(file)\n",
    "print(cleaned_filename)\n",
    "\n",
    "\n",
    "\n",
    "print(re.sub(r'\\.\\d+\\.', '.', file))\n"
   ]
  },
  {
   "cell_type": "markdown",
   "metadata": {},
   "source": [
    "#### Testing the get_iso639_1_code() function "
   ]
  },
  {
   "cell_type": "code",
   "execution_count": null,
   "metadata": {},
   "outputs": [],
   "source": [
    "from iso639 import languages\n",
    "def get_iso639_1_code(language_name):\n",
    "    \n",
    "    char_count = len(language_name)\n",
    "    try:\n",
    "        if char_count == 2:\n",
    "            lang = languages.get(part1=language_name.lower())\n",
    "            return lang.part1  # Use ISO-639-1 codes\n",
    "        elif char_count == 3:\n",
    "            lang = languages.get(part2b=language_name.lower())\n",
    "            return lang.part1  # Use ISO-639-1 codes\n",
    "        elif char_count > 3 and char_count < 8:\n",
    "            lang = languages.get(name=language_name.title())\n",
    "            return lang.part1\n",
    "        else:\n",
    "            return None\n",
    "    except Exception as e:\n",
    "        print(f\"Error getting ISO-639-1 code for {language_name}: {e}\")\n",
    "        return language_name\n",
    "    \n",
    "print(get_iso639_1_code('spa'))"
   ]
  }
 ],
 "metadata": {
  "kernelspec": {
   "display_name": "venv",
   "language": "python",
   "name": "python3"
  },
  "language_info": {
   "codemirror_mode": {
    "name": "ipython",
    "version": 3
   },
   "file_extension": ".py",
   "mimetype": "text/x-python",
   "name": "python",
   "nbconvert_exporter": "python",
   "pygments_lexer": "ipython3",
   "version": "3.9.6"
  }
 },
 "nbformat": 4,
 "nbformat_minor": 2
}
